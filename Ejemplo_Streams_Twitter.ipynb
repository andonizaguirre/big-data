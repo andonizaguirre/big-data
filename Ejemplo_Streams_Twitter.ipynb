{
  "nbformat": 4,
  "nbformat_minor": 0,
  "metadata": {
    "colab": {
      "name": "Ejemplo Streams - Twitter.ipynb",
      "provenance": [],
      "collapsed_sections": []
    },
    "kernelspec": {
      "name": "python3",
      "display_name": "Python 3"
    },
    "language_info": {
      "name": "python"
    }
  },
  "cells": [
    {
      "cell_type": "code",
      "metadata": {
        "id": "hZMXQbFQb2aV"
      },
      "source": [
        "import tweepy as tw\n",
        "\n",
        "# Más información en: https://docs.tweepy.org"
      ],
      "execution_count": 1,
      "outputs": []
    },
    {
      "cell_type": "code",
      "metadata": {
        "id": "jOMpeLecb8vw"
      },
      "source": [
        "# Crear una cuenta en: https://developer.twitter.com/\n",
        "\n",
        "# Cambiar estos valores por los tokens personales de cada cuenta\n",
        "consumer_key= 'abR6wsEZvZBvZsuOyhA3GtSC6'\n",
        "consumer_secret= 'jYHvbRcB8hkr1gHTflOHwsss9RCIZKyn7Ebonxzw41jYKnG5BZ'\n",
        "access_token= '1195575657176154112-r6dQgX0MJBWlXnePCY5Sco8GEHPiyy'\n",
        "access_token_secret= '9Ksf0LPCKWislKo0tWCRSRagnLFj5ToncIL54hTAAflF9'\n",
        "\n",
        "# Autenticación\n",
        "auth = tw.OAuthHandler(consumer_key, consumer_secret)\n",
        "auth.set_access_token(access_token, access_token_secret)\n",
        "# API de twitter\n",
        "api = tw.API(auth, wait_on_rate_limit=True)"
      ],
      "execution_count": 2,
      "outputs": []
    },
    {
      "cell_type": "code",
      "metadata": {
        "colab": {
          "base_uri": "https://localhost:8080/"
        },
        "id": "HIjaPBB9dNeJ",
        "outputId": "e85052e3-20c2-4523-d034-45164ed6f618"
      },
      "source": [
        "# Términos de búsqueda y desde cuándo\n",
        "terminos_busqueda = \"#runrun\"\n",
        "fecha = \"2021-11-13\"\n",
        "terminos_busqueda += \" -filter:retweets\"\n",
        "\n",
        "# Obtener tweets\n",
        "tweets = tw.Cursor(api.search,\n",
        "                   q = terminos_busqueda,\n",
        "                   lang = \"es\",\n",
        "                   since = fecha).items(6)\n",
        "# Iterar y mostrar el texto de los tweets\n",
        "[tweet.text for tweet in tweets]"
      ],
      "execution_count": 3,
      "outputs": [
        {
          "output_type": "execute_result",
          "data": {
            "text/plain": [
              "['Así es, somos noticia mundial!!! #RunRun https://t.co/RkoynVCJRQ',\n",
              " '#RunRun mi zorrito https://t.co/S8VlstjRp3',\n",
              " 'Solo vengo a decirles que adopten. No sean cómplices del tráfico de animales. \\n\\nRecuerden lo que le paso al zorrito #RunRun',\n",
              " '¿Y para cuando van agarrar a Ron Ron?\\nCárcel para los #Corruptos y libertad para #RunRun😢 https://t.co/kypgY0MdDu',\n",
              " 'Todo listo para mañana. Media Maratón Gandia. #mediamaratongandia #mitjamaratogandia #beplus #vickyfoods #RunRun… https://t.co/bDHQsPJGLz',\n",
              " 'Hace una semana, llegando a Tehotihuacan, en la carrera El Pescado de Moctezuma  #Runrun #rungdl #Guanajuato… https://t.co/QxxewCZlKO']"
            ]
          },
          "metadata": {},
          "execution_count": 3
        }
      ]
    },
    {
      "cell_type": "code",
      "metadata": {
        "colab": {
          "base_uri": "https://localhost:8080/"
        },
        "id": "ETZRb31heiL0",
        "outputId": "3ae4f48c-d432-4fa4-a223-35ec7f01fc41"
      },
      "source": [
        "# Obtener tweets\n",
        "tweets = tw.Cursor(api.search,\n",
        "                   q = terminos_busqueda,\n",
        "                   lang = \"es\",\n",
        "                   since = fecha).items(4)\n",
        "# Iterar y mostrar algunos metadatos de los tweets\n",
        "for tweet in tweets:\n",
        "    print(\"\\nUsuario:\", tweet.user.screen_name)\n",
        "    print(\"Localizacion:\", tweet.user.location)\n",
        "    print(\"Fecha y hora:\", tweet.created_at)\n",
        "    print(\"Tweet:\", tweet.text)"
      ],
      "execution_count": 4,
      "outputs": [
        {
          "output_type": "stream",
          "name": "stdout",
          "text": [
            "\n",
            "Usuario: chipanacatalan\n",
            "Localizacion: Lima, Peru\n",
            "Fecha y hora: 2021-11-14 01:59:30\n",
            "Tweet: Así es, somos noticia mundial!!! #RunRun https://t.co/RkoynVCJRQ\n",
            "\n",
            "Usuario: rossinabm\n",
            "Localizacion: \n",
            "Fecha y hora: 2021-11-13 22:26:54\n",
            "Tweet: #RunRun mi zorrito https://t.co/S8VlstjRp3\n",
            "\n",
            "Usuario: Ribosoma_P\n",
            "Localizacion: \n",
            "Fecha y hora: 2021-11-13 21:56:24\n",
            "Tweet: Solo vengo a decirles que adopten. No sean cómplices del tráfico de animales. \n",
            "\n",
            "Recuerden lo que le paso al zorrito #RunRun\n",
            "\n",
            "Usuario: gilmerjose_a\n",
            "Localizacion: Cajamarca, Peru\n",
            "Fecha y hora: 2021-11-13 21:32:27\n",
            "Tweet: ¿Y para cuando van agarrar a Ron Ron?\n",
            "Cárcel para los #Corruptos y libertad para #RunRun😢 https://t.co/kypgY0MdDu\n"
          ]
        }
      ]
    },
    {
      "cell_type": "code",
      "metadata": {
        "colab": {
          "base_uri": "https://localhost:8080/",
          "height": 175
        },
        "id": "6IxuTmeJgG6u",
        "outputId": "6d9018c0-1177-4c91-a994-4323f8c81e1c"
      },
      "source": [
        "# Conversión a un data frame de Pandas\n",
        "import pandas as pd\n",
        "\n",
        "# Obtener tweets\n",
        "tweets = tw.Cursor(api.search,\n",
        "                   q = terminos_busqueda,\n",
        "                   lang = \"es\",\n",
        "                   since = fecha).items(4)\n",
        "\n",
        "# Generar una lista iterable\n",
        "users_locs = [[tweet.user.screen_name, \n",
        "               str(tweet.created_at), \n",
        "               tweet.user.location, \n",
        "               tweet.text] \n",
        "              for tweet in tweets]\n",
        "\n",
        "# Convertir a un data frame\n",
        "tweet_text = pd.DataFrame(data = users_locs, \n",
        "                          columns = ['usuario', 'fecha', 'lugar', \"texto\"])\n",
        "tweet_text"
      ],
      "execution_count": 5,
      "outputs": [
        {
          "output_type": "execute_result",
          "data": {
            "text/html": [
              "<div>\n",
              "<style scoped>\n",
              "    .dataframe tbody tr th:only-of-type {\n",
              "        vertical-align: middle;\n",
              "    }\n",
              "\n",
              "    .dataframe tbody tr th {\n",
              "        vertical-align: top;\n",
              "    }\n",
              "\n",
              "    .dataframe thead th {\n",
              "        text-align: right;\n",
              "    }\n",
              "</style>\n",
              "<table border=\"1\" class=\"dataframe\">\n",
              "  <thead>\n",
              "    <tr style=\"text-align: right;\">\n",
              "      <th></th>\n",
              "      <th>usuario</th>\n",
              "      <th>fecha</th>\n",
              "      <th>lugar</th>\n",
              "      <th>texto</th>\n",
              "    </tr>\n",
              "  </thead>\n",
              "  <tbody>\n",
              "    <tr>\n",
              "      <th>0</th>\n",
              "      <td>chipanacatalan</td>\n",
              "      <td>2021-11-14 01:59:30</td>\n",
              "      <td>Lima, Peru</td>\n",
              "      <td>Así es, somos noticia mundial!!! #RunRun https...</td>\n",
              "    </tr>\n",
              "    <tr>\n",
              "      <th>1</th>\n",
              "      <td>rossinabm</td>\n",
              "      <td>2021-11-13 22:26:54</td>\n",
              "      <td></td>\n",
              "      <td>#RunRun mi zorrito https://t.co/S8VlstjRp3</td>\n",
              "    </tr>\n",
              "    <tr>\n",
              "      <th>2</th>\n",
              "      <td>Ribosoma_P</td>\n",
              "      <td>2021-11-13 21:56:24</td>\n",
              "      <td></td>\n",
              "      <td>Solo vengo a decirles que adopten. No sean cóm...</td>\n",
              "    </tr>\n",
              "    <tr>\n",
              "      <th>3</th>\n",
              "      <td>gilmerjose_a</td>\n",
              "      <td>2021-11-13 21:32:27</td>\n",
              "      <td>Cajamarca, Peru</td>\n",
              "      <td>¿Y para cuando van agarrar a Ron Ron?\\nCárcel ...</td>\n",
              "    </tr>\n",
              "  </tbody>\n",
              "</table>\n",
              "</div>"
            ],
            "text/plain": [
              "          usuario  ...                                              texto\n",
              "0  chipanacatalan  ...  Así es, somos noticia mundial!!! #RunRun https...\n",
              "1       rossinabm  ...         #RunRun mi zorrito https://t.co/S8VlstjRp3\n",
              "2      Ribosoma_P  ...  Solo vengo a decirles que adopten. No sean cóm...\n",
              "3    gilmerjose_a  ...  ¿Y para cuando van agarrar a Ron Ron?\\nCárcel ...\n",
              "\n",
              "[4 rows x 4 columns]"
            ]
          },
          "metadata": {},
          "execution_count": 5
        }
      ]
    },
    {
      "cell_type": "markdown",
      "metadata": {
        "id": "wGdeireN0YSs"
      },
      "source": [
        "### Streams"
      ]
    },
    {
      "cell_type": "code",
      "metadata": {
        "colab": {
          "base_uri": "https://localhost:8080/"
        },
        "id": "ElUSuxeohwNi",
        "outputId": "c72b218c-f0c6-4172-e714-33360996191c"
      },
      "source": [
        "import time \n",
        "import json\n",
        "\n",
        "class Listener(tw.StreamListener):\n",
        "    contador_tweets = 0    # Contador de tweets\n",
        "\n",
        "    def __init__(self, tiempo_maximo=60):\n",
        "        self.tiempo_inicial = time.time()\n",
        "        self.tiempo_maximo = tiempo_maximo\n",
        "        self.file = open(\"stream.txt\", \"w\")\n",
        "        super(Listener, self).__init__()\n",
        "\n",
        "    def get_datos(self):\n",
        "        return self.datos\n",
        "\n",
        "    def on_data(self, data):\n",
        "        Listener.contador_tweets += 1\n",
        "        # Almacenar el tweet en un archivo\n",
        "        self.file.write(data)\n",
        "        # Convertir a json para mostrar solo algunos valores\n",
        "        data = json.loads(data)\n",
        "        # Mostrar el \"texto\" del tweet\n",
        "        print(\"Tweet \" + str(Listener.contador_tweets) + \"\\n\" + 30*\"-\")\n",
        "        print(str(data[\"text\"])+\"\\n\")\n",
        "        if ((time.time() - self.tiempo_inicial) < self.tiempo_maximo) and \\\n",
        "           (Listener.contador_tweets < Listener.max_tweets):\n",
        "            return True\n",
        "        else:\n",
        "            print(\"Se alcanzó el máximo número de tweets o se llegó al tiempo máximo\")\n",
        "            self.file.close()\n",
        "            return False\n",
        "\n",
        "    def getTweetsByHashtag(self, max_tweets, hashtag):\n",
        "        try:\n",
        "            Listener.max_tweets = max_tweets\n",
        "            streaming_api = tw.Stream(auth, Listener(), timeout=60)\n",
        "            streaming_api.filter(track=[hashtag])\n",
        "        except KeyboardInterrupt:\n",
        "            print('Interrupción de teclado')\n",
        "\n",
        "# Intancia de stream\n",
        "listener = Listener()\n",
        "listener.getTweetsByHashtag(4, \"peru\")"
      ],
      "execution_count": 9,
      "outputs": [
        {
          "output_type": "stream",
          "name": "stdout",
          "text": [
            "Tweet 1\n",
            "------------------------------\n",
            "RT @larepublica_pe: 🚨 #AHORA | 💉 Alcalde de La Victoria alista plan para que solo vacunados con ambas dosis ingresen a Gamarra\n",
            "\n",
            "Esta medida…\n",
            "\n",
            "Tweet 2\n",
            "------------------------------\n",
            "RT @Gestionpe: Perú acogerá la 52 Asamblea General de la OEA en el 2022, tercera en su historia https://t.co/YIbimx9X4A\n",
            "\n",
            "Tweet 3\n",
            "------------------------------\n",
            "@BelspBreno @UOLNoticias Vc quer um peru? Te arrumo um peruzão!\n",
            "\n",
            "Tweet 4\n",
            "------------------------------\n",
            "RT @juank23_7: @CancilleriaPeru informa sobre el MILLÓN de dosis de #Sinopharm arribadas hoy 13Nov al Perú como parte de la donación del Go…\n",
            "\n",
            "Se alcanzó el máximo número de tweets o se llegó al tiempo máximo\n"
          ]
        }
      ]
    },
    {
      "cell_type": "code",
      "metadata": {
        "colab": {
          "base_uri": "https://localhost:8080/"
        },
        "id": "4hLSx1pCjGr7",
        "outputId": "77029fab-a275-448f-e881-17328700d008"
      },
      "source": [
        "# Leer el archivo grabado\n",
        "f = open('stream.txt','r')\n",
        "datos = []\n",
        "for i in f:\n",
        "    dato_formato_json = json.loads(i) \n",
        "    print(dato_formato_json)\n",
        "    datos.append(dato_formato_json)"
      ],
      "execution_count": 10,
      "outputs": [
        {
          "output_type": "stream",
          "name": "stdout",
          "text": [
            "{'created_at': 'Sun Nov 14 03:48:46 +0000 2021', 'id': 1459729999158816770, 'id_str': '1459729999158816770', 'text': 'RT @larepublica_pe: 🚨 #AHORA | 💉 Alcalde de La Victoria alista plan para que solo vacunados con ambas dosis ingresen a Gamarra\\n\\nEsta medida…', 'source': '<a href=\"https://mobile.twitter.com\" rel=\"nofollow\">Twitter Web App</a>', 'truncated': False, 'in_reply_to_status_id': None, 'in_reply_to_status_id_str': None, 'in_reply_to_user_id': None, 'in_reply_to_user_id_str': None, 'in_reply_to_screen_name': None, 'user': {'id': 282109564, 'id_str': '282109564', 'name': 'Diegoqg', 'screen_name': 'ciberescritor', 'location': 'El Alto — Perú        Te sigue', 'url': 'http://escritores.foroactivo.com', 'description': 'Escritor, Bohemio. Amigo de mis amigos, monoteísta, enemigo de los fujiapristones !\\nQuiero ser uno, del millón de amigos que tu tienes !', 'translator_type': 'none', 'protected': False, 'verified': False, 'followers_count': 619, 'friends_count': 620, 'listed_count': 0, 'favourites_count': 66116, 'statuses_count': 40979, 'created_at': 'Thu Apr 14 15:25:45 +0000 2011', 'utc_offset': None, 'time_zone': None, 'geo_enabled': False, 'lang': None, 'contributors_enabled': False, 'is_translator': False, 'profile_background_color': '131516', 'profile_background_image_url': 'http://abs.twimg.com/images/themes/theme14/bg.gif', 'profile_background_image_url_https': 'https://abs.twimg.com/images/themes/theme14/bg.gif', 'profile_background_tile': True, 'profile_link_color': '009999', 'profile_sidebar_border_color': 'EEEEEE', 'profile_sidebar_fill_color': 'EFEFEF', 'profile_text_color': '333333', 'profile_use_background_image': True, 'profile_image_url': 'http://pbs.twimg.com/profile_images/1437807383045152779/U-0EzS-t_normal.jpg', 'profile_image_url_https': 'https://pbs.twimg.com/profile_images/1437807383045152779/U-0EzS-t_normal.jpg', 'profile_banner_url': 'https://pbs.twimg.com/profile_banners/282109564/1631635086', 'default_profile': False, 'default_profile_image': False, 'following': None, 'follow_request_sent': None, 'notifications': None, 'withheld_in_countries': []}, 'geo': None, 'coordinates': None, 'place': None, 'contributors': None, 'retweeted_status': {'created_at': 'Sat Nov 13 14:54:03 +0000 2021', 'id': 1459535032473866244, 'id_str': '1459535032473866244', 'text': '🚨 #AHORA | 💉 Alcalde de La Victoria alista plan para que solo vacunados con ambas dosis ingresen a Gamarra\\n\\nEsta me… https://t.co/ol3PUPIwvk', 'source': '<a href=\"https://mobile.twitter.com\" rel=\"nofollow\">Twitter Web App</a>', 'truncated': True, 'in_reply_to_status_id': None, 'in_reply_to_status_id_str': None, 'in_reply_to_user_id': None, 'in_reply_to_user_id_str': None, 'in_reply_to_screen_name': None, 'user': {'id': 66746614, 'id_str': '66746614', 'name': 'La República', 'screen_name': 'larepublica_pe', 'location': 'Lima, Perú', 'url': 'https://larepublica.pe/', 'description': 'Informamos lo que sucede en Perú y el mundo.\\nSíguenos: @Politica_LR @DeportesLR @LRTendencias @VerificadorLR @Domingo_LR @LRData\\n➡ https://t.co/HkEjb13UCB', 'translator_type': 'none', 'protected': False, 'verified': True, 'followers_count': 2520158, 'friends_count': 911, 'listed_count': 5244, 'favourites_count': 1051, 'statuses_count': 640057, 'created_at': 'Tue Aug 18 17:49:35 +0000 2009', 'utc_offset': None, 'time_zone': None, 'geo_enabled': True, 'lang': None, 'contributors_enabled': False, 'is_translator': False, 'profile_background_color': 'FFFFFF', 'profile_background_image_url': 'http://abs.twimg.com/images/themes/theme9/bg.gif', 'profile_background_image_url_https': 'https://abs.twimg.com/images/themes/theme9/bg.gif', 'profile_background_tile': True, 'profile_link_color': 'BD0D0D', 'profile_sidebar_border_color': 'FFFFFF', 'profile_sidebar_fill_color': 'F7F7F7', 'profile_text_color': '333333', 'profile_use_background_image': True, 'profile_image_url': 'http://pbs.twimg.com/profile_images/1381339673021267974/KbnnoMEE_normal.jpg', 'profile_image_url_https': 'https://pbs.twimg.com/profile_images/1381339673021267974/KbnnoMEE_normal.jpg', 'profile_banner_url': 'https://pbs.twimg.com/profile_banners/66746614/1582064376', 'default_profile': False, 'default_profile_image': False, 'following': None, 'follow_request_sent': None, 'notifications': None, 'withheld_in_countries': []}, 'geo': None, 'coordinates': None, 'place': None, 'contributors': None, 'is_quote_status': False, 'extended_tweet': {'full_text': '🚨 #AHORA | 💉 Alcalde de La Victoria alista plan para que solo vacunados con ambas dosis ingresen a Gamarra\\n\\nEsta medida restrictiva podría entrar en vigencia desde diciembre a fin de evitar un aumento de casos por COVID-19.\\nhttps://t.co/rKgyToq89L', 'display_text_range': [0, 247], 'entities': {'hashtags': [{'text': 'AHORA', 'indices': [2, 8]}], 'urls': [{'url': 'https://t.co/rKgyToq89L', 'expanded_url': 'https://larepublica.pe/sociedad/2021/11/13/coronavirus-en-peru-alcalde-de-la-victoria-alista-plan-para-que-solo-vacunados-con-ambas-dosis-ingresen-a-gamarra/', 'display_url': 'larepublica.pe/sociedad/2021/…', 'indices': [224, 247]}], 'user_mentions': [], 'symbols': []}}, 'quote_count': 18, 'reply_count': 33, 'retweet_count': 120, 'favorite_count': 771, 'entities': {'hashtags': [{'text': 'AHORA', 'indices': [2, 8]}], 'urls': [{'url': 'https://t.co/ol3PUPIwvk', 'expanded_url': 'https://twitter.com/i/web/status/1459535032473866244', 'display_url': 'twitter.com/i/web/status/1…', 'indices': [117, 140]}], 'user_mentions': [], 'symbols': []}, 'favorited': False, 'retweeted': False, 'possibly_sensitive': False, 'filter_level': 'low', 'lang': 'es'}, 'is_quote_status': False, 'quote_count': 0, 'reply_count': 0, 'retweet_count': 0, 'favorite_count': 0, 'entities': {'hashtags': [{'text': 'AHORA', 'indices': [22, 28]}], 'urls': [], 'user_mentions': [{'screen_name': 'larepublica_pe', 'name': 'La República', 'id': 66746614, 'id_str': '66746614', 'indices': [3, 18]}], 'symbols': []}, 'favorited': False, 'retweeted': False, 'filter_level': 'low', 'lang': 'es', 'timestamp_ms': '1636861726928'}\n",
            "{'created_at': 'Sun Nov 14 03:48:47 +0000 2021', 'id': 1459730001096548353, 'id_str': '1459730001096548353', 'text': 'RT @Gestionpe: Perú acogerá la 52 Asamblea General de la OEA en el 2022, tercera en su historia https://t.co/YIbimx9X4A', 'source': '<a href=\"http://twitter.com/download/android\" rel=\"nofollow\">Twitter for Android</a>', 'truncated': False, 'in_reply_to_status_id': None, 'in_reply_to_status_id_str': None, 'in_reply_to_user_id': None, 'in_reply_to_user_id_str': None, 'in_reply_to_screen_name': None, 'user': {'id': 1307728701908488199, 'id_str': '1307728701908488199', 'name': 'Mack Donald Vivas Monroy', 'screen_name': 'MackVivas', 'location': None, 'url': None, 'description': 'Pragmatic Fallibilist -\\nBecario PRONABEC\\nBusiness Manager\\n - PUCP', 'translator_type': 'none', 'protected': False, 'verified': False, 'followers_count': 2, 'friends_count': 100, 'listed_count': 0, 'favourites_count': 3772, 'statuses_count': 215, 'created_at': 'Sun Sep 20 17:10:30 +0000 2020', 'utc_offset': None, 'time_zone': None, 'geo_enabled': False, 'lang': None, 'contributors_enabled': False, 'is_translator': False, 'profile_background_color': 'F5F8FA', 'profile_background_image_url': '', 'profile_background_image_url_https': '', 'profile_background_tile': False, 'profile_link_color': '1DA1F2', 'profile_sidebar_border_color': 'C0DEED', 'profile_sidebar_fill_color': 'DDEEF6', 'profile_text_color': '333333', 'profile_use_background_image': True, 'profile_image_url': 'http://pbs.twimg.com/profile_images/1307728953440972802/T3Sg9CSA_normal.jpg', 'profile_image_url_https': 'https://pbs.twimg.com/profile_images/1307728953440972802/T3Sg9CSA_normal.jpg', 'profile_banner_url': 'https://pbs.twimg.com/profile_banners/1307728701908488199/1623697017', 'default_profile': True, 'default_profile_image': False, 'following': None, 'follow_request_sent': None, 'notifications': None, 'withheld_in_countries': []}, 'geo': None, 'coordinates': None, 'place': None, 'contributors': None, 'retweeted_status': {'created_at': 'Sat Nov 13 06:45:01 +0000 2021', 'id': 1459411963558207495, 'id_str': '1459411963558207495', 'text': 'Perú acogerá la 52 Asamblea General de la OEA en el 2022, tercera en su historia https://t.co/YIbimx9X4A', 'source': '<a href=\"http://besocy.com\" rel=\"nofollow\">Besocy_Oficial</a>', 'truncated': False, 'in_reply_to_status_id': None, 'in_reply_to_status_id_str': None, 'in_reply_to_user_id': None, 'in_reply_to_user_id_str': None, 'in_reply_to_screen_name': None, 'user': {'id': 110822488, 'id_str': '110822488', 'name': 'Diario Gestión', 'screen_name': 'Gestionpe', 'location': 'Lima', 'url': 'http://gestion.pe/', 'description': 'Gestión, el diario de economía y negocios del Perú, también te informa en Twitter.', 'translator_type': 'none', 'protected': False, 'verified': False, 'followers_count': 1426743, 'friends_count': 867, 'listed_count': 2704, 'favourites_count': 0, 'statuses_count': 291206, 'created_at': 'Tue Feb 02 22:07:53 +0000 2010', 'utc_offset': None, 'time_zone': None, 'geo_enabled': True, 'lang': None, 'contributors_enabled': False, 'is_translator': False, 'profile_background_color': '9D0924', 'profile_background_image_url': 'http://abs.twimg.com/images/themes/theme1/bg.png', 'profile_background_image_url_https': 'https://abs.twimg.com/images/themes/theme1/bg.png', 'profile_background_tile': False, 'profile_link_color': '9D0924', 'profile_sidebar_border_color': 'FFFFFF', 'profile_sidebar_fill_color': 'FFE6D0', 'profile_text_color': '333333', 'profile_use_background_image': True, 'profile_image_url': 'http://pbs.twimg.com/profile_images/1176951363919646720/Fub3L8f8_normal.jpg', 'profile_image_url_https': 'https://pbs.twimg.com/profile_images/1176951363919646720/Fub3L8f8_normal.jpg', 'profile_banner_url': 'https://pbs.twimg.com/profile_banners/110822488/1602109292', 'default_profile': False, 'default_profile_image': False, 'following': None, 'follow_request_sent': None, 'notifications': None, 'withheld_in_countries': []}, 'geo': None, 'coordinates': None, 'place': None, 'contributors': None, 'is_quote_status': False, 'quote_count': 1, 'reply_count': 5, 'retweet_count': 11, 'favorite_count': 28, 'entities': {'hashtags': [], 'urls': [{'url': 'https://t.co/YIbimx9X4A', 'expanded_url': 'https://gestion.pe/peru/peru-acogera-la-52-asamblea-general-de-la-oea-en-el-2022-tercera-en-su-historia-noticia/?ref=gesr', 'display_url': 'gestion.pe/peru/peru-acog…', 'indices': [81, 104]}], 'user_mentions': [], 'symbols': []}, 'favorited': False, 'retweeted': False, 'possibly_sensitive': False, 'filter_level': 'low', 'lang': 'es'}, 'is_quote_status': False, 'quote_count': 0, 'reply_count': 0, 'retweet_count': 0, 'favorite_count': 0, 'entities': {'hashtags': [], 'urls': [{'url': 'https://t.co/YIbimx9X4A', 'expanded_url': 'https://gestion.pe/peru/peru-acogera-la-52-asamblea-general-de-la-oea-en-el-2022-tercera-en-su-historia-noticia/?ref=gesr', 'display_url': 'gestion.pe/peru/peru-acog…', 'indices': [96, 119]}], 'user_mentions': [{'screen_name': 'Gestionpe', 'name': 'Diario Gestión', 'id': 110822488, 'id_str': '110822488', 'indices': [3, 13]}], 'symbols': []}, 'favorited': False, 'retweeted': False, 'possibly_sensitive': False, 'filter_level': 'low', 'lang': 'es', 'timestamp_ms': '1636861727390'}\n",
            "{'created_at': 'Sun Nov 14 03:48:51 +0000 2021', 'id': 1459730017064267781, 'id_str': '1459730017064267781', 'text': '@BelspBreno @UOLNoticias Vc quer um peru? Te arrumo um peruzão!', 'display_text_range': [25, 63], 'source': '<a href=\"http://twitter.com/download/android\" rel=\"nofollow\">Twitter for Android</a>', 'truncated': False, 'in_reply_to_status_id': 1459608876647600129, 'in_reply_to_status_id_str': '1459608876647600129', 'in_reply_to_user_id': 2271481852, 'in_reply_to_user_id_str': '2271481852', 'in_reply_to_screen_name': 'BelspBreno', 'user': {'id': 1436779727692443661, 'id_str': '1436779727692443661', 'name': 'Dom Paio', 'screen_name': 'dom_paio', 'location': None, 'url': None, 'description': 'Senhor da Torre de Nogueira. Patriarca da família. Pertencente a Ordem dos Cavaleiros Templários. Advogado raiz. Por um Brasil livre do Comunismo. Transvacinado', 'translator_type': 'none', 'protected': False, 'verified': False, 'followers_count': 143, 'friends_count': 269, 'listed_count': 0, 'favourites_count': 2306, 'statuses_count': 2074, 'created_at': 'Sat Sep 11 19:52:52 +0000 2021', 'utc_offset': None, 'time_zone': None, 'geo_enabled': False, 'lang': None, 'contributors_enabled': False, 'is_translator': False, 'profile_background_color': 'F5F8FA', 'profile_background_image_url': '', 'profile_background_image_url_https': '', 'profile_background_tile': False, 'profile_link_color': '1DA1F2', 'profile_sidebar_border_color': 'C0DEED', 'profile_sidebar_fill_color': 'DDEEF6', 'profile_text_color': '333333', 'profile_use_background_image': True, 'profile_image_url': 'http://pbs.twimg.com/profile_images/1438363036960575493/60uNONVb_normal.jpg', 'profile_image_url_https': 'https://pbs.twimg.com/profile_images/1438363036960575493/60uNONVb_normal.jpg', 'profile_banner_url': 'https://pbs.twimg.com/profile_banners/1436779727692443661/1631391116', 'default_profile': True, 'default_profile_image': False, 'following': None, 'follow_request_sent': None, 'notifications': None, 'withheld_in_countries': []}, 'geo': None, 'coordinates': None, 'place': None, 'contributors': None, 'is_quote_status': False, 'quote_count': 0, 'reply_count': 0, 'retweet_count': 0, 'favorite_count': 0, 'entities': {'hashtags': [], 'urls': [], 'user_mentions': [{'screen_name': 'BelspBreno', 'name': 'Breno Santiago🇧🇷', 'id': 2271481852, 'id_str': '2271481852', 'indices': [0, 11]}, {'screen_name': 'UOLNoticias', 'name': 'UOL Notícias', 'id': 14594698, 'id_str': '14594698', 'indices': [12, 24]}], 'symbols': []}, 'favorited': False, 'retweeted': False, 'filter_level': 'low', 'lang': 'pt', 'timestamp_ms': '1636861731197'}\n",
            "{'created_at': 'Sun Nov 14 03:48:52 +0000 2021', 'id': 1459730024475639809, 'id_str': '1459730024475639809', 'text': 'RT @juank23_7: @CancilleriaPeru informa sobre el MILLÓN de dosis de #Sinopharm arribadas hoy 13Nov al Perú como parte de la donación del Go…', 'source': '<a href=\"https://mobile.twitter.com\" rel=\"nofollow\">Twitter Web App</a>', 'truncated': False, 'in_reply_to_status_id': None, 'in_reply_to_status_id_str': None, 'in_reply_to_user_id': None, 'in_reply_to_user_id_str': None, 'in_reply_to_screen_name': None, 'user': {'id': 1423667706448994305, 'id_str': '1423667706448994305', 'name': 'Carlos PERU .', 'screen_name': 'CarlosPERU16', 'location': None, 'url': None, 'description': 'Vamos cada dia podemos mejorar en algo y tener una mejor vida a un futuro cercano nuestro.', 'translator_type': 'none', 'protected': False, 'verified': False, 'followers_count': 401, 'friends_count': 5000, 'listed_count': 1, 'favourites_count': 11796, 'statuses_count': 3928, 'created_at': 'Fri Aug 06 15:30:47 +0000 2021', 'utc_offset': None, 'time_zone': None, 'geo_enabled': False, 'lang': None, 'contributors_enabled': False, 'is_translator': False, 'profile_background_color': 'F5F8FA', 'profile_background_image_url': '', 'profile_background_image_url_https': '', 'profile_background_tile': False, 'profile_link_color': '1DA1F2', 'profile_sidebar_border_color': 'C0DEED', 'profile_sidebar_fill_color': 'DDEEF6', 'profile_text_color': '333333', 'profile_use_background_image': True, 'profile_image_url': 'http://pbs.twimg.com/profile_images/1423736502245330948/HOE8gdVX_normal.jpg', 'profile_image_url_https': 'https://pbs.twimg.com/profile_images/1423736502245330948/HOE8gdVX_normal.jpg', 'default_profile': True, 'default_profile_image': False, 'following': None, 'follow_request_sent': None, 'notifications': None, 'withheld_in_countries': []}, 'geo': None, 'coordinates': None, 'place': None, 'contributors': None, 'retweeted_status': {'created_at': 'Sun Nov 14 03:21:50 +0000 2021', 'id': 1459723219632599041, 'id_str': '1459723219632599041', 'text': '@CancilleriaPeru informa sobre el MILLÓN de dosis de #Sinopharm arribadas hoy 13Nov al Perú como parte de la donaci… https://t.co/o9QRnMQrRy', 'source': '<a href=\"https://mobile.twitter.com\" rel=\"nofollow\">Twitter Web App</a>', 'truncated': True, 'in_reply_to_status_id': 1458941109690896397, 'in_reply_to_status_id_str': '1458941109690896397', 'in_reply_to_user_id': 1319306448, 'in_reply_to_user_id_str': '1319306448', 'in_reply_to_screen_name': 'juank23_7', 'user': {'id': 1319306448, 'id_str': '1319306448', 'name': 'Juan Carbajal 🇵🇪 #VacunarseEsClave', 'screen_name': 'juank23_7', 'location': 'PERÚ', 'url': None, 'description': 'Ingeniero Electrónico egresado de la @UNMSM_ Ex-Miembro Voluntario de @OpenCovidPE', 'translator_type': 'none', 'protected': False, 'verified': False, 'followers_count': 11198, 'friends_count': 399, 'listed_count': 44, 'favourites_count': 6685, 'statuses_count': 17809, 'created_at': 'Sun Mar 31 23:54:27 +0000 2013', 'utc_offset': None, 'time_zone': None, 'geo_enabled': True, 'lang': None, 'contributors_enabled': False, 'is_translator': False, 'profile_background_color': 'C0DEED', 'profile_background_image_url': 'http://abs.twimg.com/images/themes/theme1/bg.png', 'profile_background_image_url_https': 'https://abs.twimg.com/images/themes/theme1/bg.png', 'profile_background_tile': False, 'profile_link_color': '1DA1F2', 'profile_sidebar_border_color': 'C0DEED', 'profile_sidebar_fill_color': 'DDEEF6', 'profile_text_color': '333333', 'profile_use_background_image': True, 'profile_image_url': 'http://pbs.twimg.com/profile_images/1431340251189059597/NQYHi6wo_normal.jpg', 'profile_image_url_https': 'https://pbs.twimg.com/profile_images/1431340251189059597/NQYHi6wo_normal.jpg', 'profile_banner_url': 'https://pbs.twimg.com/profile_banners/1319306448/1635589705', 'default_profile': True, 'default_profile_image': False, 'following': None, 'follow_request_sent': None, 'notifications': None, 'withheld_in_countries': []}, 'geo': None, 'coordinates': None, 'place': None, 'contributors': None, 'is_quote_status': False, 'extended_tweet': {'full_text': '@CancilleriaPeru informa sobre el MILLÓN de dosis de #Sinopharm arribadas hoy 13Nov al Perú como parte de la donación del Gobierno de la República Popular China\\n\\nhttps://t.co/purI0mzm35', 'display_text_range': [0, 185], 'entities': {'hashtags': [{'text': 'Sinopharm', 'indices': [53, 63]}], 'urls': [{'url': 'https://t.co/purI0mzm35', 'expanded_url': 'https://www.gob.pe/institucion/rree/noticias/553963-china-dona-un-millon-de-dosis-de-vacunas-contra-la-covid-19-al-peru', 'display_url': 'gob.pe/institucion/rr…', 'indices': [162, 185]}], 'user_mentions': [{'screen_name': 'CancilleriaPeru', 'name': 'Cancillería Perú🇵🇪', 'id': 87808060, 'id_str': '87808060', 'indices': [0, 16]}], 'symbols': []}}, 'quote_count': 0, 'reply_count': 0, 'retweet_count': 5, 'favorite_count': 21, 'entities': {'hashtags': [{'text': 'Sinopharm', 'indices': [53, 63]}], 'urls': [{'url': 'https://t.co/o9QRnMQrRy', 'expanded_url': 'https://twitter.com/i/web/status/1459723219632599041', 'display_url': 'twitter.com/i/web/status/1…', 'indices': [117, 140]}], 'user_mentions': [{'screen_name': 'CancilleriaPeru', 'name': 'Cancillería Perú🇵🇪', 'id': 87808060, 'id_str': '87808060', 'indices': [0, 16]}], 'symbols': []}, 'favorited': False, 'retweeted': False, 'possibly_sensitive': False, 'filter_level': 'low', 'lang': 'es'}, 'is_quote_status': False, 'quote_count': 0, 'reply_count': 0, 'retweet_count': 0, 'favorite_count': 0, 'entities': {'hashtags': [{'text': 'Sinopharm', 'indices': [68, 78]}], 'urls': [], 'user_mentions': [{'screen_name': 'juank23_7', 'name': 'Juan Carbajal 🇵🇪 #VacunarseEsClave', 'id': 1319306448, 'id_str': '1319306448', 'indices': [3, 13]}, {'screen_name': 'CancilleriaPeru', 'name': 'Cancillería Perú🇵🇪', 'id': 87808060, 'id_str': '87808060', 'indices': [15, 31]}], 'symbols': []}, 'favorited': False, 'retweeted': False, 'filter_level': 'low', 'lang': 'es', 'timestamp_ms': '1636861732964'}\n"
          ]
        }
      ]
    },
    {
      "cell_type": "code",
      "metadata": {
        "colab": {
          "base_uri": "https://localhost:8080/",
          "height": 403
        },
        "id": "cZKC27q_bO-h",
        "outputId": "c468b0d0-3db1-4003-a7b1-27f418362d63"
      },
      "source": [
        "# Convertir el archivo leido en un dataframe de Pandas\n",
        "df = pd.DataFrame.from_dict(datos, orient='columns')\n",
        "df"
      ],
      "execution_count": 11,
      "outputs": [
        {
          "output_type": "execute_result",
          "data": {
            "text/html": [
              "<div>\n",
              "<style scoped>\n",
              "    .dataframe tbody tr th:only-of-type {\n",
              "        vertical-align: middle;\n",
              "    }\n",
              "\n",
              "    .dataframe tbody tr th {\n",
              "        vertical-align: top;\n",
              "    }\n",
              "\n",
              "    .dataframe thead th {\n",
              "        text-align: right;\n",
              "    }\n",
              "</style>\n",
              "<table border=\"1\" class=\"dataframe\">\n",
              "  <thead>\n",
              "    <tr style=\"text-align: right;\">\n",
              "      <th></th>\n",
              "      <th>created_at</th>\n",
              "      <th>id</th>\n",
              "      <th>id_str</th>\n",
              "      <th>text</th>\n",
              "      <th>source</th>\n",
              "      <th>truncated</th>\n",
              "      <th>in_reply_to_status_id</th>\n",
              "      <th>in_reply_to_status_id_str</th>\n",
              "      <th>in_reply_to_user_id</th>\n",
              "      <th>in_reply_to_user_id_str</th>\n",
              "      <th>in_reply_to_screen_name</th>\n",
              "      <th>user</th>\n",
              "      <th>geo</th>\n",
              "      <th>coordinates</th>\n",
              "      <th>place</th>\n",
              "      <th>contributors</th>\n",
              "      <th>retweeted_status</th>\n",
              "      <th>is_quote_status</th>\n",
              "      <th>quote_count</th>\n",
              "      <th>reply_count</th>\n",
              "      <th>retweet_count</th>\n",
              "      <th>favorite_count</th>\n",
              "      <th>entities</th>\n",
              "      <th>favorited</th>\n",
              "      <th>retweeted</th>\n",
              "      <th>filter_level</th>\n",
              "      <th>lang</th>\n",
              "      <th>timestamp_ms</th>\n",
              "      <th>possibly_sensitive</th>\n",
              "      <th>display_text_range</th>\n",
              "    </tr>\n",
              "  </thead>\n",
              "  <tbody>\n",
              "    <tr>\n",
              "      <th>0</th>\n",
              "      <td>Sun Nov 14 03:48:46 +0000 2021</td>\n",
              "      <td>1459729999158816770</td>\n",
              "      <td>1459729999158816770</td>\n",
              "      <td>RT @larepublica_pe: 🚨 #AHORA | 💉 Alcalde de La...</td>\n",
              "      <td>&lt;a href=\"https://mobile.twitter.com\" rel=\"nofo...</td>\n",
              "      <td>False</td>\n",
              "      <td>NaN</td>\n",
              "      <td>None</td>\n",
              "      <td>NaN</td>\n",
              "      <td>None</td>\n",
              "      <td>None</td>\n",
              "      <td>{'id': 282109564, 'id_str': '282109564', 'name...</td>\n",
              "      <td>None</td>\n",
              "      <td>None</td>\n",
              "      <td>None</td>\n",
              "      <td>None</td>\n",
              "      <td>{'created_at': 'Sat Nov 13 14:54:03 +0000 2021...</td>\n",
              "      <td>False</td>\n",
              "      <td>0</td>\n",
              "      <td>0</td>\n",
              "      <td>0</td>\n",
              "      <td>0</td>\n",
              "      <td>{'hashtags': [{'text': 'AHORA', 'indices': [22...</td>\n",
              "      <td>False</td>\n",
              "      <td>False</td>\n",
              "      <td>low</td>\n",
              "      <td>es</td>\n",
              "      <td>1636861726928</td>\n",
              "      <td>NaN</td>\n",
              "      <td>NaN</td>\n",
              "    </tr>\n",
              "    <tr>\n",
              "      <th>1</th>\n",
              "      <td>Sun Nov 14 03:48:47 +0000 2021</td>\n",
              "      <td>1459730001096548353</td>\n",
              "      <td>1459730001096548353</td>\n",
              "      <td>RT @Gestionpe: Perú acogerá la 52 Asamblea Gen...</td>\n",
              "      <td>&lt;a href=\"http://twitter.com/download/android\" ...</td>\n",
              "      <td>False</td>\n",
              "      <td>NaN</td>\n",
              "      <td>None</td>\n",
              "      <td>NaN</td>\n",
              "      <td>None</td>\n",
              "      <td>None</td>\n",
              "      <td>{'id': 1307728701908488199, 'id_str': '1307728...</td>\n",
              "      <td>None</td>\n",
              "      <td>None</td>\n",
              "      <td>None</td>\n",
              "      <td>None</td>\n",
              "      <td>{'created_at': 'Sat Nov 13 06:45:01 +0000 2021...</td>\n",
              "      <td>False</td>\n",
              "      <td>0</td>\n",
              "      <td>0</td>\n",
              "      <td>0</td>\n",
              "      <td>0</td>\n",
              "      <td>{'hashtags': [], 'urls': [{'url': 'https://t.c...</td>\n",
              "      <td>False</td>\n",
              "      <td>False</td>\n",
              "      <td>low</td>\n",
              "      <td>es</td>\n",
              "      <td>1636861727390</td>\n",
              "      <td>False</td>\n",
              "      <td>NaN</td>\n",
              "    </tr>\n",
              "    <tr>\n",
              "      <th>2</th>\n",
              "      <td>Sun Nov 14 03:48:51 +0000 2021</td>\n",
              "      <td>1459730017064267781</td>\n",
              "      <td>1459730017064267781</td>\n",
              "      <td>@BelspBreno @UOLNoticias Vc quer um peru? Te a...</td>\n",
              "      <td>&lt;a href=\"http://twitter.com/download/android\" ...</td>\n",
              "      <td>False</td>\n",
              "      <td>1.459609e+18</td>\n",
              "      <td>1459608876647600129</td>\n",
              "      <td>2.271482e+09</td>\n",
              "      <td>2271481852</td>\n",
              "      <td>BelspBreno</td>\n",
              "      <td>{'id': 1436779727692443661, 'id_str': '1436779...</td>\n",
              "      <td>None</td>\n",
              "      <td>None</td>\n",
              "      <td>None</td>\n",
              "      <td>None</td>\n",
              "      <td>NaN</td>\n",
              "      <td>False</td>\n",
              "      <td>0</td>\n",
              "      <td>0</td>\n",
              "      <td>0</td>\n",
              "      <td>0</td>\n",
              "      <td>{'hashtags': [], 'urls': [], 'user_mentions': ...</td>\n",
              "      <td>False</td>\n",
              "      <td>False</td>\n",
              "      <td>low</td>\n",
              "      <td>pt</td>\n",
              "      <td>1636861731197</td>\n",
              "      <td>NaN</td>\n",
              "      <td>[25, 63]</td>\n",
              "    </tr>\n",
              "    <tr>\n",
              "      <th>3</th>\n",
              "      <td>Sun Nov 14 03:48:52 +0000 2021</td>\n",
              "      <td>1459730024475639809</td>\n",
              "      <td>1459730024475639809</td>\n",
              "      <td>RT @juank23_7: @CancilleriaPeru informa sobre ...</td>\n",
              "      <td>&lt;a href=\"https://mobile.twitter.com\" rel=\"nofo...</td>\n",
              "      <td>False</td>\n",
              "      <td>NaN</td>\n",
              "      <td>None</td>\n",
              "      <td>NaN</td>\n",
              "      <td>None</td>\n",
              "      <td>None</td>\n",
              "      <td>{'id': 1423667706448994305, 'id_str': '1423667...</td>\n",
              "      <td>None</td>\n",
              "      <td>None</td>\n",
              "      <td>None</td>\n",
              "      <td>None</td>\n",
              "      <td>{'created_at': 'Sun Nov 14 03:21:50 +0000 2021...</td>\n",
              "      <td>False</td>\n",
              "      <td>0</td>\n",
              "      <td>0</td>\n",
              "      <td>0</td>\n",
              "      <td>0</td>\n",
              "      <td>{'hashtags': [{'text': 'Sinopharm', 'indices':...</td>\n",
              "      <td>False</td>\n",
              "      <td>False</td>\n",
              "      <td>low</td>\n",
              "      <td>es</td>\n",
              "      <td>1636861732964</td>\n",
              "      <td>NaN</td>\n",
              "      <td>NaN</td>\n",
              "    </tr>\n",
              "  </tbody>\n",
              "</table>\n",
              "</div>"
            ],
            "text/plain": [
              "                       created_at  ...  display_text_range\n",
              "0  Sun Nov 14 03:48:46 +0000 2021  ...                 NaN\n",
              "1  Sun Nov 14 03:48:47 +0000 2021  ...                 NaN\n",
              "2  Sun Nov 14 03:48:51 +0000 2021  ...            [25, 63]\n",
              "3  Sun Nov 14 03:48:52 +0000 2021  ...                 NaN\n",
              "\n",
              "[4 rows x 30 columns]"
            ]
          },
          "metadata": {},
          "execution_count": 11
        }
      ]
    },
    {
      "cell_type": "code",
      "metadata": {
        "id": "EgFvCC8xjoeY"
      },
      "source": [
        ""
      ],
      "execution_count": 8,
      "outputs": []
    }
  ]
}