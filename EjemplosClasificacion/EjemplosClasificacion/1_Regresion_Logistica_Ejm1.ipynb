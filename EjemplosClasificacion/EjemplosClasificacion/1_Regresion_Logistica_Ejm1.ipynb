{
 "cells": [
  {
   "cell_type": "markdown",
   "metadata": {
    "id": "iC4fJwvwyv7M"
   },
   "source": [
    "# Regresión Logística: ejemplo 1"
   ]
  },
  {
   "cell_type": "code",
   "execution_count": 1,
   "metadata": {
    "colab": {
     "base_uri": "https://localhost:8080/"
    },
    "executionInfo": {
     "elapsed": 2995,
     "status": "ok",
     "timestamp": 1624737611874,
     "user": {
      "displayName": "Oscar Efrain Ramos Ponce",
      "photoUrl": "",
      "userId": "04332843430273332537"
     },
     "user_tz": 300
    },
    "id": "z-5qRGeVzbPr",
    "outputId": "b02bba0d-6c21-4c0c-a244-a2a14604a416"
   },
   "outputs": [
    {
     "name": "stdout",
     "output_type": "stream",
     "text": [
      "Requirement already satisfied: pyspark in /usr/local/lib/python3.7/dist-packages (3.1.2)\n",
      "Requirement already satisfied: py4j==0.10.9 in /usr/local/lib/python3.7/dist-packages (from pyspark) (0.10.9)\n"
     ]
    }
   ],
   "source": [
    "# Solo si ce corre en Google Colab\n",
    "!pip install pyspark"
   ]
  },
  {
   "cell_type": "code",
   "execution_count": 2,
   "metadata": {
    "executionInfo": {
     "elapsed": 6384,
     "status": "ok",
     "timestamp": 1624737618248,
     "user": {
      "displayName": "Oscar Efrain Ramos Ponce",
      "photoUrl": "",
      "userId": "04332843430273332537"
     },
     "user_tz": 300
    },
    "id": "TkY78byuyv7Q"
   },
   "outputs": [],
   "source": [
    "from pyspark.sql import SparkSession\n",
    "from pyspark.ml.classification import LogisticRegression\n",
    "\n",
    "spark = SparkSession.builder.appName('EjemploRegLog1').getOrCreate()"
   ]
  },
  {
   "cell_type": "code",
   "execution_count": null,
   "metadata": {
    "colab": {
     "base_uri": "https://localhost:8080/"
    },
    "executionInfo": {
     "elapsed": 7328,
     "status": "ok",
     "timestamp": 1624737625568,
     "user": {
      "displayName": "Oscar Efrain Ramos Ponce",
      "photoUrl": "",
      "userId": "04332843430273332537"
     },
     "user_tz": 300
    },
    "id": "rj74wdlFyv7U",
    "outputId": "46b587bb-fc47-4894-d7b2-f6fa160f5ba4"
   },
   "outputs": [],
   "source": [
    "# Datos de entrenamiento\n",
    "data = spark.read.format(\"libsvm\").load(\"/content/datos_reg_log.libsvm.txt\")\n",
    "\n",
    "# Separación de los datos en entrenamiento y prueba (70% / 30%)\n",
    "data_train, data_test = data.randomSplit([0.7, 0.3])\n",
    "\n",
    "# Mostrar algunos de los datos\n",
    "data_train.show(5, truncate=False)"
   ]
  },
  {
   "cell_type": "markdown",
   "metadata": {
    "id": "85eVEOpFlgjG"
   },
   "source": [
    "## 1. Entrenamiento"
   ]
  },
  {
   "cell_type": "code",
   "execution_count": 4,
   "metadata": {
    "executionInfo": {
     "elapsed": 5376,
     "status": "ok",
     "timestamp": 1624737630936,
     "user": {
      "displayName": "Oscar Efrain Ramos Ponce",
      "photoUrl": "",
      "userId": "04332843430273332537"
     },
     "user_tz": 300
    },
    "id": "3W2_4kuzyv7Y"
   },
   "outputs": [],
   "source": [
    "# Modelo de regresión logística\n",
    "reglog = LogisticRegression(predictionCol='prediccion')\n",
    "\n",
    "# Ajustar a los datos de entrenamiento (entrenar el modelo)\n",
    "modelo = reglog.fit(data_train)   "
   ]
  },
  {
   "cell_type": "code",
   "execution_count": 5,
   "metadata": {
    "colab": {
     "base_uri": "https://localhost:8080/"
    },
    "executionInfo": {
     "elapsed": 21,
     "status": "ok",
     "timestamp": 1624737630938,
     "user": {
      "displayName": "Oscar Efrain Ramos Ponce",
      "photoUrl": "",
      "userId": "04332843430273332537"
     },
     "user_tz": 300
    },
    "id": "wLlw5uHgkGWf",
    "outputId": "cd9d47a3-2cf4-4210-ef58-f74be7b222bb"
   },
   "outputs": [
    {
     "data": {
      "text/plain": [
       "LogisticRegressionModel: uid=LogisticRegression_d8e785c696e8, numClasses=2, numFeatures=692"
      ]
     },
     "execution_count": 5,
     "metadata": {
      "tags": []
     },
     "output_type": "execute_result"
    }
   ],
   "source": [
    "# Tipo de dato de \"modelo\"\n",
    "modelo"
   ]
  },
  {
   "cell_type": "code",
   "execution_count": 6,
   "metadata": {
    "colab": {
     "base_uri": "https://localhost:8080/"
    },
    "executionInfo": {
     "elapsed": 834,
     "status": "ok",
     "timestamp": 1624737631761,
     "user": {
      "displayName": "Oscar Efrain Ramos Ponce",
      "photoUrl": "",
      "userId": "04332843430273332537"
     },
     "user_tz": 300
    },
    "id": "1VWtqHcdfKjv",
    "outputId": "202a20c8-26e8-4e3c-f780-d23de7698adb"
   },
   "outputs": [
    {
     "name": "stdout",
     "output_type": "stream",
     "text": [
      "Etiquetas (clases) del modelo: [0.0, 1.0]\n",
      "TP para entrenamiento: [1.0, 1.0]\n",
      "FP para entrenamiento: [0.0, 0.0]\n"
     ]
    }
   ],
   "source": [
    "print(\"Etiquetas (clases) del modelo:\", modelo.summary.labels)\n",
    "\n",
    "# True Positives (por etiqueta)\n",
    "print(\"TP para entrenamiento:\", modelo.summary.truePositiveRateByLabel)     \n",
    "\n",
    "# False Positives (por etiqueta)\n",
    "print(\"FP para entrenamiento:\", modelo.summary.falsePositiveRateByLabel)"
   ]
  },
  {
   "cell_type": "code",
   "execution_count": 7,
   "metadata": {
    "colab": {
     "base_uri": "https://localhost:8080/"
    },
    "executionInfo": {
     "elapsed": 319,
     "status": "ok",
     "timestamp": 1624737632077,
     "user": {
      "displayName": "Oscar Efrain Ramos Ponce",
      "photoUrl": "",
      "userId": "04332843430273332537"
     },
     "user_tz": 300
    },
    "id": "45EUFYDqgQWj",
    "outputId": "4efb475a-bcb6-43d5-9eb6-63dbd76ee35b"
   },
   "outputs": [
    {
     "name": "stdout",
     "output_type": "stream",
     "text": [
      "Exactitud en el conjunto de entrenamiento: 1.0\n",
      "Área bajo la curva ROC en el conjunto de entrenamiento: 1.0\n"
     ]
    }
   ],
   "source": [
    "accuracy = modelo.summary.accuracy\n",
    "AUC = modelo.summary.areaUnderROC\n",
    "\n",
    "print(\"Exactitud en el conjunto de entrenamiento:\", accuracy)\n",
    "print(\"Área bajo la curva ROC en el conjunto de entrenamiento:\", AUC)"
   ]
  },
  {
   "cell_type": "code",
   "execution_count": 8,
   "metadata": {
    "colab": {
     "base_uri": "https://localhost:8080/"
    },
    "executionInfo": {
     "elapsed": 205,
     "status": "ok",
     "timestamp": 1624737632270,
     "user": {
      "displayName": "Oscar Efrain Ramos Ponce",
      "photoUrl": "",
      "userId": "04332843430273332537"
     },
     "user_tz": 300
    },
    "id": "0vTPe8z-fH--",
    "outputId": "08ec2e63-d43d-45cf-f5eb-f57499ae3af3"
   },
   "outputs": [
    {
     "name": "stdout",
     "output_type": "stream",
     "text": [
      "root\n",
      " |-- label: double (nullable = true)\n",
      " |-- features: vector (nullable = true)\n",
      " |-- rawPrediction: vector (nullable = true)\n",
      " |-- probability: vector (nullable = true)\n",
      " |-- prediccion: double (nullable = false)\n",
      "\n"
     ]
    }
   ],
   "source": [
    "# Resultados de entrenamiento: esquema de la salida\n",
    "modelo.summary.predictions.printSchema()"
   ]
  },
  {
   "cell_type": "code",
   "execution_count": 9,
   "metadata": {
    "colab": {
     "base_uri": "https://localhost:8080/"
    },
    "executionInfo": {
     "elapsed": 577,
     "status": "ok",
     "timestamp": 1624737632844,
     "user": {
      "displayName": "Oscar Efrain Ramos Ponce",
      "photoUrl": "",
      "userId": "04332843430273332537"
     },
     "user_tz": 300
    },
    "id": "POioWjoKyv7d",
    "outputId": "44a32958-2440-42c5-afa2-350d1ca9b692"
   },
   "outputs": [
    {
     "name": "stdout",
     "output_type": "stream",
     "text": [
      "+-----+--------------------+--------------------+--------------------+----------+\n",
      "|label|            features|       rawPrediction|         probability|prediccion|\n",
      "+-----+--------------------+--------------------+--------------------+----------+\n",
      "|  0.0|(692,[95,96,97,12...|[21.3623427583336...|[0.99999999947222...|       0.0|\n",
      "|  0.0|(692,[98,99,100,1...|[28.0782617446973...|[0.99999999999936...|       0.0|\n",
      "|  0.0|(692,[100,101,102...|[18.9419616133997...|[0.99999999406240...|       0.0|\n",
      "|  0.0|(692,[122,123,148...|[20.8931479853493...|[0.99999999915623...|       0.0|\n",
      "|  0.0|(692,[123,124,125...|[27.8195077426374...|[0.99999999999917...|       0.0|\n",
      "+-----+--------------------+--------------------+--------------------+----------+\n",
      "only showing top 5 rows\n",
      "\n"
     ]
    }
   ],
   "source": [
    "# Ejemplos de resultados de entrenamiento\n",
    "modelo.summary.predictions.show(5)"
   ]
  },
  {
   "cell_type": "markdown",
   "metadata": {
    "id": "L3HjBKV_19Vd"
   },
   "source": [
    "## 2. Evaluación"
   ]
  },
  {
   "cell_type": "code",
   "execution_count": 10,
   "metadata": {
    "colab": {
     "base_uri": "https://localhost:8080/"
    },
    "executionInfo": {
     "elapsed": 755,
     "status": "ok",
     "timestamp": 1624737633596,
     "user": {
      "displayName": "Oscar Efrain Ramos Ponce",
      "photoUrl": "",
      "userId": "04332843430273332537"
     },
     "user_tz": 300
    },
    "id": "FF4UGlzsEoqA",
    "outputId": "a2bb28de-7833-41e6-9a7a-25ea96418823"
   },
   "outputs": [
    {
     "name": "stdout",
     "output_type": "stream",
     "text": [
      "+-----+--------------------+--------------------+--------------------+----------+\n",
      "|label|            features|       rawPrediction|         probability|prediccion|\n",
      "+-----+--------------------+--------------------+--------------------+----------+\n",
      "|  0.0|(692,[121,122,123...|[20.3850134910585...|[0.99999999859750...|       0.0|\n",
      "|  0.0|(692,[122,123,124...|[14.4252915621358...|[0.99999945653042...|       0.0|\n",
      "|  0.0|(692,[124,125,126...|[29.9356058201162...|[0.99999999999990...|       0.0|\n",
      "|  0.0|(692,[126,127,128...|[26.9300480952993...|[0.99999999999798...|       0.0|\n",
      "|  0.0|(692,[126,127,128...|[30.1090376878383...|[0.99999999999991...|       0.0|\n",
      "+-----+--------------------+--------------------+--------------------+----------+\n",
      "only showing top 5 rows\n",
      "\n"
     ]
    }
   ],
   "source": [
    "# Evaluación del clasificador (con el conjunto de prueba \"test\")\n",
    "resultado = modelo.evaluate(data_test)\n",
    "\n",
    "# Ver los resultados con el conjunto de prueba\n",
    "resultado.predictions.show(5)"
   ]
  },
  {
   "cell_type": "code",
   "execution_count": 11,
   "metadata": {
    "colab": {
     "base_uri": "https://localhost:8080/"
    },
    "executionInfo": {
     "elapsed": 9,
     "status": "ok",
     "timestamp": 1624737633597,
     "user": {
      "displayName": "Oscar Efrain Ramos Ponce",
      "photoUrl": "",
      "userId": "04332843430273332537"
     },
     "user_tz": 300
    },
    "id": "KdOzCyIC0BZF",
    "outputId": "739bc76d-9de0-4307-a280-127002565124"
   },
   "outputs": [
    {
     "data": {
      "text/plain": [
       "pyspark.ml.classification.BinaryLogisticRegressionSummary"
      ]
     },
     "execution_count": 11,
     "metadata": {
      "tags": []
     },
     "output_type": "execute_result"
    }
   ],
   "source": [
    "type(resultado)"
   ]
  },
  {
   "cell_type": "code",
   "execution_count": 12,
   "metadata": {
    "colab": {
     "base_uri": "https://localhost:8080/"
    },
    "executionInfo": {
     "elapsed": 354,
     "status": "ok",
     "timestamp": 1624737633946,
     "user": {
      "displayName": "Oscar Efrain Ramos Ponce",
      "photoUrl": "",
      "userId": "04332843430273332537"
     },
     "user_tz": 300
    },
    "id": "NJT-R8LflJGy",
    "outputId": "15481243-1b33-485e-f2b1-5bca1d8de199"
   },
   "outputs": [
    {
     "name": "stdout",
     "output_type": "stream",
     "text": [
      "+-----+----------+\n",
      "|label|prediccion|\n",
      "+-----+----------+\n",
      "|  0.0|       0.0|\n",
      "|  0.0|       0.0|\n",
      "|  0.0|       0.0|\n",
      "|  0.0|       0.0|\n",
      "|  0.0|       0.0|\n",
      "+-----+----------+\n",
      "only showing top 5 rows\n",
      "\n"
     ]
    }
   ],
   "source": [
    "resultado.predictions.select('label','prediccion').show(5)"
   ]
  },
  {
   "cell_type": "code",
   "execution_count": 13,
   "metadata": {
    "colab": {
     "base_uri": "https://localhost:8080/"
    },
    "executionInfo": {
     "elapsed": 318,
     "status": "ok",
     "timestamp": 1624737634258,
     "user": {
      "displayName": "Oscar Efrain Ramos Ponce",
      "photoUrl": "",
      "userId": "04332843430273332537"
     },
     "user_tz": 300
    },
    "id": "uptCeLT2lf7j",
    "outputId": "5b0f2116-2383-4ed9-eaca-51c138fcd477"
   },
   "outputs": [
    {
     "name": "stdout",
     "output_type": "stream",
     "text": [
      "TP para prueba: [1.0, 1.0]\n",
      "FP para prueba: [0.0, 0.0]\n"
     ]
    }
   ],
   "source": [
    "# True Positives (por etiqueta)\n",
    "print(\"TP para prueba:\", resultado.truePositiveRateByLabel)     \n",
    "\n",
    "# False Positives (por etiqueta)\n",
    "print(\"FP para prueba:\", resultado.falsePositiveRateByLabel)"
   ]
  },
  {
   "cell_type": "code",
   "execution_count": 14,
   "metadata": {
    "colab": {
     "base_uri": "https://localhost:8080/"
    },
    "executionInfo": {
     "elapsed": 230,
     "status": "ok",
     "timestamp": 1624737634485,
     "user": {
      "displayName": "Oscar Efrain Ramos Ponce",
      "photoUrl": "",
      "userId": "04332843430273332537"
     },
     "user_tz": 300
    },
    "id": "jTwvQDGdhDBp",
    "outputId": "821c932e-3fed-4cf9-fc75-91bfa01cd304"
   },
   "outputs": [
    {
     "name": "stdout",
     "output_type": "stream",
     "text": [
      "Exactitud en el conjunto de prueba: 1.0\n",
      "Área bajo la curva ROC en el conjunto de prueba: 1.0\n"
     ]
    }
   ],
   "source": [
    "accuracy = resultado.accuracy\n",
    "auc = resultado.areaUnderROC\n",
    "\n",
    "print(\"Exactitud en el conjunto de prueba:\", accuracy)\n",
    "print(\"Área bajo la curva ROC en el conjunto de prueba:\", auc)"
   ]
  },
  {
   "cell_type": "code",
   "execution_count": 15,
   "metadata": {
    "colab": {
     "base_uri": "https://localhost:8080/"
    },
    "executionInfo": {
     "elapsed": 479,
     "status": "ok",
     "timestamp": 1624737634959,
     "user": {
      "displayName": "Oscar Efrain Ramos Ponce",
      "photoUrl": "",
      "userId": "04332843430273332537"
     },
     "user_tz": 300
    },
    "id": "VAxUxeFWhvt9",
    "outputId": "5b649bab-83f3-416c-85b0-2f3e474946ee"
   },
   "outputs": [
    {
     "name": "stdout",
     "output_type": "stream",
     "text": [
      "+---+------+\n",
      "|FPR|   TPR|\n",
      "+---+------+\n",
      "|0.0|   0.0|\n",
      "|0.0|0.0625|\n",
      "|0.0| 0.125|\n",
      "|0.0|0.1875|\n",
      "|0.0|  0.25|\n",
      "+---+------+\n",
      "only showing top 5 rows\n",
      "\n"
     ]
    },
    {
     "data": {
      "text/plain": [
       "[Row(FPR=0.0, TPR=0.0),\n",
       " Row(FPR=0.0, TPR=0.0625),\n",
       " Row(FPR=0.0, TPR=0.125),\n",
       " Row(FPR=0.0, TPR=0.1875),\n",
       " Row(FPR=0.0, TPR=0.25)]"
      ]
     },
     "execution_count": 15,
     "metadata": {
      "tags": []
     },
     "output_type": "execute_result"
    }
   ],
   "source": [
    "# Datos de la curva roc\n",
    "resultado.roc.show(5)\n",
    "\n",
    "roc = resultado.roc.collect()\n",
    "roc[:5]"
   ]
  },
  {
   "cell_type": "code",
   "execution_count": 16,
   "metadata": {
    "colab": {
     "base_uri": "https://localhost:8080/",
     "height": 0
    },
    "executionInfo": {
     "elapsed": 320,
     "status": "ok",
     "timestamp": 1624737635274,
     "user": {
      "displayName": "Oscar Efrain Ramos Ponce",
      "photoUrl": "",
      "userId": "04332843430273332537"
     },
     "user_tz": 300
    },
    "id": "SfVYaemXmM-F",
    "outputId": "c63e3f9d-c93b-4f45-cb34-7845266329a1"
   },
   "outputs": [
    {
     "data": {
      "image/png": "[encoded data removed]",
      "text/plain": [
       "<Figure size 432x288 with 1 Axes>"
      ]
     },
     "metadata": {
      "needs_background": "light",
      "tags": []
     },
     "output_type": "display_data"
    }
   ],
   "source": [
    "import numpy as np\n",
    "import matplotlib.pyplot as plt\n",
    "\n",
    "# Curva roc\n",
    "n = len(roc)\n",
    "FPR = np.zeros(n); TPR = np.zeros(n)\n",
    "for idx, elem in enumerate(roc):\n",
    "  FPR[idx] = elem.FPR\n",
    "  TPR[idx] = elem.TPR\n",
    "\n",
    "plt.plot(FPR, TPR)\n",
    "plt.xlabel(\"FPR\"); plt.ylabel(\"TPR\")\n",
    "plt.show()"
   ]
  },
  {
   "cell_type": "markdown",
   "metadata": {
    "id": "358xnazsl5A0"
   },
   "source": [
    "### Evaluación"
   ]
  },
  {
   "cell_type": "code",
   "execution_count": 17,
   "metadata": {
    "executionInfo": {
     "elapsed": 15,
     "status": "ok",
     "timestamp": 1624737635276,
     "user": {
      "displayName": "Oscar Efrain Ramos Ponce",
      "photoUrl": "",
      "userId": "04332843430273332537"
     },
     "user_tz": 300
    },
    "id": "5tRHAHbryv7u"
   },
   "outputs": [],
   "source": [
    "from pyspark.ml.evaluation import (BinaryClassificationEvaluator,\n",
    "                                   MulticlassClassificationEvaluator)"
   ]
  },
  {
   "cell_type": "code",
   "execution_count": 18,
   "metadata": {
    "colab": {
     "base_uri": "https://localhost:8080/"
    },
    "executionInfo": {
     "elapsed": 559,
     "status": "ok",
     "timestamp": 1624737635821,
     "user": {
      "displayName": "Oscar Efrain Ramos Ponce",
      "photoUrl": "",
      "userId": "04332843430273332537"
     },
     "user_tz": 300
    },
    "id": "1lQ38RCIoD1y",
    "outputId": "9d10208e-10c0-4281-c942-1a3ab4f61ec1"
   },
   "outputs": [
    {
     "name": "stdout",
     "output_type": "stream",
     "text": [
      "AUC: 1.0\n"
     ]
    }
   ],
   "source": [
    "# Creación del evaluador (indicando qué columna es la predicción y cuál la etiqueta real)\n",
    "evaluador = BinaryClassificationEvaluator(rawPredictionCol='prediccion', labelCol='label', \n",
    "                                          metricName='areaUnderROC')\n",
    "\n",
    "# Evaluación del área bajo la curva ROC de la salida anterior\n",
    "AUC = evaluador.evaluate(resultado.predictions)\n",
    "\n",
    "print(\"AUC:\", AUC)"
   ]
  },
  {
   "cell_type": "code",
   "execution_count": 19,
   "metadata": {
    "colab": {
     "base_uri": "https://localhost:8080/"
    },
    "executionInfo": {
     "elapsed": 282,
     "status": "ok",
     "timestamp": 1624737636096,
     "user": {
      "displayName": "Oscar Efrain Ramos Ponce",
      "photoUrl": "",
      "userId": "04332843430273332537"
     },
     "user_tz": 300
    },
    "id": "f55_0GySyv71",
    "outputId": "641130ae-b3d9-46a2-f2b8-55c3059497ff"
   },
   "outputs": [
    {
     "name": "stdout",
     "output_type": "stream",
     "text": [
      "Exactitud: 1.0\n"
     ]
    }
   ],
   "source": [
    "# Evaluador de la exactitud (accuracy)\n",
    "evaluador2 = MulticlassClassificationEvaluator(predictionCol='prediccion', labelCol='label',\n",
    "                                               metricName='accuracy')\n",
    "\n",
    "exactitud = evaluador2.evaluate(resultado.predictions)\n",
    "\n",
    "print(\"Exactitud:\", exactitud)"
   ]
  }
 ],
 "metadata": {
  "anaconda-cloud": {},
  "colab": {
   "collapsed_sections": [],
   "name": "2_1_Regresion_Logistica_Ejm1.ipynb",
   "provenance": []
  },
  "kernelspec": {
   "display_name": "Python 3",
   "language": "python",
   "name": "python3"
  },
  "language_info": {
   "codemirror_mode": {
    "name": "ipython",
    "version": 3
   },
   "file_extension": ".py",
   "mimetype": "text/x-python",
   "name": "python",
   "nbconvert_exporter": "python",
   "pygments_lexer": "ipython3",
   "version": "3.8.5"
  }
 },
 "nbformat": 4,
 "nbformat_minor": 1
}
